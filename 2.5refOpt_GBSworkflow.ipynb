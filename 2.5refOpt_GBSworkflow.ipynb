{
 "cells": [
  {
   "cell_type": "markdown",
   "metadata": {},
   "source": [
    "# Optimize denovo reference\n",
    "    This script uses scripts provided by dDocent to de novo assembly in CD-HIT\n",
    "    https://www.ddocent.com/assembly/\n",
    "    \n",
    "    Run dDocent first with basic commands. Use individuals retained from filtering to make assembly"
   ]
  },
  {
   "cell_type": "code",
   "execution_count": 1,
   "metadata": {
    "ExecuteTime": {}
   },
   "outputs": [
    {
     "name": "stdout",
     "output_type": "stream",
     "text": [
      "/usr/bin/sh: line 0: source: activate: file not found\r\n"
     ]
    }
   ],
   "source": [
    "!source activate py36"
   ]
  },
  {
   "cell_type": "code",
   "execution_count": 2,
   "metadata": {
    "ExecuteTime": {}
   },
   "outputs": [],
   "source": [
    "import sys\n",
    "\n",
    "#sys.path.append('/home/faske/g/anaconda3/envs/py34/lib/python3.4/site-packages')\n",
    "sys.path.append('/data/gpfs/assoc/parchmanlab/tfaske/anaconda3/envs/py36/lib/python3.6/site-packages')\n",
    "sys.path.append(\"/data/gpfs/assoc/parchmanlab/tfaske/ipynb/include_utils\")\n",
    "\n",
    "import ipyparallel as ipp\n",
    "import os, time\n",
    "import include_utils as u\n",
    "import pandas as pd\n",
    "import numpy as np\n",
    "import scipy as sp\n",
    "import numbers\n",
    "import matplotlib.pyplot as plt\n",
    "import matplotlib.patches as mpatches\n",
    "import matplotlib.cm as cm\n",
    "import matplotlib.colors as mcolors\n",
    "#import vcf\n",
    "from sklearn import preprocessing\n",
    "from subprocess import Popen, PIPE, call, check_output\n",
    "import seaborn as sns\n",
    "from IPython.display import FileLink\n",
    "import urllib.request as urllib2\n",
    "import dill\n",
    "import traceback\n",
    "from pandas import Series, DataFrame\n",
    "import gzip\n",
    "import warnings\n",
    "warnings.filterwarnings('ignore',category=pd.io.pytables.PerformanceWarning)\n",
    "%config InlineBackend.figure_format = 'retina'\n",
    "from Bio import SeqIO\n",
    "#import pysam\n",
    "from collections import OrderedDict, namedtuple, Counter\n",
    "import operator\n",
    "import multiprocessing as mp\n",
    "import shutil\n",
    "import tempfile\n",
    "#from ipyparallel import Client\n",
    "import scandir\n",
    "import glob\n",
    "from Bio.SeqIO.QualityIO import FastqGeneralIterator\n",
    "import pickle\n",
    "import re\n",
    "from itertools import chain\n",
    "#import Levenshtein as lv"
   ]
  },
  {
   "cell_type": "code",
   "execution_count": 40,
   "metadata": {
    "ExecuteTime": {}
   },
   "outputs": [],
   "source": [
    "root = \"/data/gpfs/home/tfaske/g/rabbruh\""
   ]
  },
  {
   "cell_type": "code",
   "execution_count": 41,
   "metadata": {
    "ExecuteTime": {}
   },
   "outputs": [
    {
     "name": "stdout",
     "output_type": "stream",
     "text": [
      "/data/gpfs/assoc/parchmanlab/tfaske/rabbruh\n"
     ]
    }
   ],
   "source": [
    "cd $root"
   ]
  },
  {
   "cell_type": "code",
   "execution_count": 42,
   "metadata": {
    "ExecuteTime": {}
   },
   "outputs": [
    {
     "data": {
      "text/plain": [
       "'/data/gpfs/assoc/parchmanlab/tfaske/rabbruh'"
      ]
     },
     "execution_count": 42,
     "metadata": {},
     "output_type": "execute_result"
    }
   ],
   "source": [
    "pwd"
   ]
  },
  {
   "cell_type": "markdown",
   "metadata": {},
   "source": [
    "# Sample random fastq for optimizer\n",
    "\n",
    "    rabbruh 400 individuals from one site. Make fastq.size file and pick the largest 40 files\n",
    "    \n",
    "    in terminal:\n",
    "    ls -l fastq/EN_TF_* > fastq_size.txt\n",
    " "
   ]
  },
  {
   "cell_type": "code",
   "execution_count": 59,
   "metadata": {},
   "outputs": [
    {
     "data": {
      "text/html": [
       "<div>\n",
       "<style scoped>\n",
       "    .dataframe tbody tr th:only-of-type {\n",
       "        vertical-align: middle;\n",
       "    }\n",
       "\n",
       "    .dataframe tbody tr th {\n",
       "        vertical-align: top;\n",
       "    }\n",
       "\n",
       "    .dataframe thead th {\n",
       "        text-align: right;\n",
       "    }\n",
       "</style>\n",
       "<table border=\"1\" class=\"dataframe\">\n",
       "  <thead>\n",
       "    <tr style=\"text-align: right;\">\n",
       "      <th></th>\n",
       "      <th>size</th>\n",
       "      <th>fq</th>\n",
       "    </tr>\n",
       "  </thead>\n",
       "  <tbody>\n",
       "    <tr>\n",
       "      <th>0</th>\n",
       "      <td>67548672</td>\n",
       "      <td>fastq/EN_TF_100.F.fq.gz</td>\n",
       "    </tr>\n",
       "    <tr>\n",
       "      <th>1</th>\n",
       "      <td>110280990</td>\n",
       "      <td>fastq/EN_TF_101.F.fq.gz</td>\n",
       "    </tr>\n",
       "    <tr>\n",
       "      <th>2</th>\n",
       "      <td>122571303</td>\n",
       "      <td>fastq/EN_TF_102.F.fq.gz</td>\n",
       "    </tr>\n",
       "    <tr>\n",
       "      <th>3</th>\n",
       "      <td>111357485</td>\n",
       "      <td>fastq/EN_TF_103.F.fq.gz</td>\n",
       "    </tr>\n",
       "    <tr>\n",
       "      <th>4</th>\n",
       "      <td>94973260</td>\n",
       "      <td>fastq/EN_TF_104.F.fq.gz</td>\n",
       "    </tr>\n",
       "    <tr>\n",
       "      <th>5</th>\n",
       "      <td>59785693</td>\n",
       "      <td>fastq/EN_TF_105.F.fq.gz</td>\n",
       "    </tr>\n",
       "    <tr>\n",
       "      <th>6</th>\n",
       "      <td>89894113</td>\n",
       "      <td>fastq/EN_TF_106.F.fq.gz</td>\n",
       "    </tr>\n",
       "    <tr>\n",
       "      <th>7</th>\n",
       "      <td>61289898</td>\n",
       "      <td>fastq/EN_TF_107.F.fq.gz</td>\n",
       "    </tr>\n",
       "    <tr>\n",
       "      <th>8</th>\n",
       "      <td>115595655</td>\n",
       "      <td>fastq/EN_TF_108.F.fq.gz</td>\n",
       "    </tr>\n",
       "    <tr>\n",
       "      <th>9</th>\n",
       "      <td>98913561</td>\n",
       "      <td>fastq/EN_TF_109.F.fq.gz</td>\n",
       "    </tr>\n",
       "    <tr>\n",
       "      <th>10</th>\n",
       "      <td>146005138</td>\n",
       "      <td>fastq/EN_TF_10.F.fq.gz</td>\n",
       "    </tr>\n",
       "  </tbody>\n",
       "</table>\n",
       "</div>"
      ],
      "text/plain": [
       "         size                       fq\n",
       "0    67548672  fastq/EN_TF_100.F.fq.gz\n",
       "1   110280990  fastq/EN_TF_101.F.fq.gz\n",
       "2   122571303  fastq/EN_TF_102.F.fq.gz\n",
       "3   111357485  fastq/EN_TF_103.F.fq.gz\n",
       "4    94973260  fastq/EN_TF_104.F.fq.gz\n",
       "5    59785693  fastq/EN_TF_105.F.fq.gz\n",
       "6    89894113  fastq/EN_TF_106.F.fq.gz\n",
       "7    61289898  fastq/EN_TF_107.F.fq.gz\n",
       "8   115595655  fastq/EN_TF_108.F.fq.gz\n",
       "9    98913561  fastq/EN_TF_109.F.fq.gz\n",
       "10  146005138   fastq/EN_TF_10.F.fq.gz"
      ]
     },
     "execution_count": 59,
     "metadata": {},
     "output_type": "execute_result"
    }
   ],
   "source": [
    "#fq_size = pd.read_csv('fastq_size.txt',usecols=[5,9],sep=' ',names=['size','fq'])\n",
    "fq_size = pd.read_csv('fastq_size.txt',sep='\\s+',usecols=[4,8],names=['size','fq'])\n",
    "fq_size.loc[:10,]"
   ]
  },
  {
   "cell_type": "code",
   "execution_count": 63,
   "metadata": {},
   "outputs": [
    {
     "data": {
      "text/html": [
       "<div>\n",
       "<style scoped>\n",
       "    .dataframe tbody tr th:only-of-type {\n",
       "        vertical-align: middle;\n",
       "    }\n",
       "\n",
       "    .dataframe tbody tr th {\n",
       "        vertical-align: top;\n",
       "    }\n",
       "\n",
       "    .dataframe thead th {\n",
       "        text-align: right;\n",
       "    }\n",
       "</style>\n",
       "<table border=\"1\" class=\"dataframe\">\n",
       "  <thead>\n",
       "    <tr style=\"text-align: right;\">\n",
       "      <th></th>\n",
       "      <th>size</th>\n",
       "      <th>fq</th>\n",
       "    </tr>\n",
       "  </thead>\n",
       "  <tbody>\n",
       "    <tr>\n",
       "      <th>374</th>\n",
       "      <td>208620256</td>\n",
       "      <td>fastq/EN_TF_77.F.fq.gz</td>\n",
       "    </tr>\n",
       "    <tr>\n",
       "      <th>177</th>\n",
       "      <td>161955392</td>\n",
       "      <td>fastq/EN_TF_260.F.fq.gz</td>\n",
       "    </tr>\n",
       "    <tr>\n",
       "      <th>377</th>\n",
       "      <td>146444569</td>\n",
       "      <td>fastq/EN_TF_7.F.fq.gz</td>\n",
       "    </tr>\n",
       "    <tr>\n",
       "      <th>10</th>\n",
       "      <td>146005138</td>\n",
       "      <td>fastq/EN_TF_10.F.fq.gz</td>\n",
       "    </tr>\n",
       "  </tbody>\n",
       "</table>\n",
       "</div>"
      ],
      "text/plain": [
       "          size                       fq\n",
       "374  208620256   fastq/EN_TF_77.F.fq.gz\n",
       "177  161955392  fastq/EN_TF_260.F.fq.gz\n",
       "377  146444569    fastq/EN_TF_7.F.fq.gz\n",
       "10   146005138   fastq/EN_TF_10.F.fq.gz"
      ]
     },
     "execution_count": 63,
     "metadata": {},
     "output_type": "execute_result"
    }
   ],
   "source": [
    "fq_size.sort_values('size',axis=0,ascending=False,inplace=True)\n",
    "fq_size.loc[:10,]"
   ]
  },
  {
   "cell_type": "code",
   "execution_count": 64,
   "metadata": {},
   "outputs": [
    {
     "data": {
      "text/plain": [
       "40"
      ]
     },
     "execution_count": 64,
     "metadata": {},
     "output_type": "execute_result"
    }
   ],
   "source": [
    "fq_top40 = fq_size.fq[:40]\n",
    "len(fq_top40)"
   ]
  },
  {
   "cell_type": "code",
   "execution_count": 65,
   "metadata": {},
   "outputs": [],
   "source": [
    "!mkdir refOpt"
   ]
  },
  {
   "cell_type": "code",
   "execution_count": 70,
   "metadata": {},
   "outputs": [],
   "source": [
    "def write_cp_refOpt_sh(fq_files):\n",
    "    with open(\"cp_refOpt.sh\", \"w\") as o:\n",
    "        o.write(\"\"\"#!/bin/bash \\n\"\"\")\n",
    "        for fq in fq_files:\n",
    "            o.write(\"\"\"cp {} refOpt &\\n\"\"\".format(fq))"
   ]
  },
  {
   "cell_type": "code",
   "execution_count": 71,
   "metadata": {},
   "outputs": [],
   "source": [
    "write_cp_refOpt_sh(fq_top40)"
   ]
  },
  {
   "cell_type": "markdown",
   "metadata": {},
   "source": [
    "# run cp_ref.sh\n",
    "    cd /data/gpfs/home/tfaske/g/rabbruh\n",
    "    bash cp_ref.sh"
   ]
  },
  {
   "cell_type": "markdown",
   "metadata": {
    "ExecuteTime": {}
   },
   "source": [
    "# make a slurm script to run ReferenceOpt.sh \n",
    "\n",
    "**Scripts are available in other_scripts/refOpt**  \n",
    "\n",
    "ReferenceOpt.sh minK1 maxK1 minK2 maxK2 Assembly_Type Processors"
   ]
  },
  {
   "cell_type": "code",
   "execution_count": 72,
   "metadata": {},
   "outputs": [],
   "source": [
    "refOpt = '/data/gpfs/home/tfaske/g/src/refOpt/./ReferenceOpt.sh'\n",
    "refOpt_dir = '/data/gpfs/home/tfaske/g/rabbruh/refOpt'"
   ]
  },
  {
   "cell_type": "code",
   "execution_count": 73,
   "metadata": {},
   "outputs": [
    {
     "name": "stdout",
     "output_type": "stream",
     "text": [
      "/data/gpfs/assoc/parchmanlab/tfaske/rabbruh/refOpt\n"
     ]
    }
   ],
   "source": [
    "cd $refOpt_dir"
   ]
  },
  {
   "cell_type": "code",
   "execution_count": 80,
   "metadata": {},
   "outputs": [],
   "source": [
    "### select options\n",
    "minK1 = 4\n",
    "maxK1 = 10\n",
    "minK2 = 4\n",
    "maxK2 = 10\n",
    "Type = 'SE' \n",
    "Cpus = 32\n",
    "email = 'tfaske@nevada.unr.edu'"
   ]
  },
  {
   "cell_type": "code",
   "execution_count": 81,
   "metadata": {
    "ExecuteTime": {}
   },
   "outputs": [],
   "source": [
    "def write_refOpt_sh(refOpt,minK1,maxK1,minK2,maxK2,Type,Cpus,email):\n",
    "    with open(\"run_refOpt.sh\", \"w\") as o:\n",
    "        o.write(\"\"\"#!/usr/bin/env bash\n",
    "#SBATCH --account=cpu-s1-bionres-0\n",
    "#SBATCH --partition=cpu-s1-bionres-0\n",
    "#SBATCH --ntasks 1\n",
    "#SBATCH --cpus-per-task %d\n",
    "#SBATCH --mem-per-cpu=2500\n",
    "#SBATCH --job-name refOpt\n",
    "#SBATCH --output output_refOpt.txt\n",
    "#SBATCH --mail-type=END\n",
    "#SBATCH --mail-user=%s\\n\\n\"\"\" % (Cpus,email))\n",
    "\n",
    "        #ReferenceOpt.sh minK1 maxK1 minK2 maxK2 Assembly_Type Processors\n",
    "        o.write(\"\"\"%s %d %d %d %d %s %d\"\"\"% (refOpt,minK1,maxK1,minK2,maxK2,Type,Cpus))"
   ]
  },
  {
   "cell_type": "code",
   "execution_count": 82,
   "metadata": {},
   "outputs": [],
   "source": [
    "write_refOpt_sh(refOpt,minK1,maxK1,minK2,maxK2,Type,Cpus,email)"
   ]
  },
  {
   "cell_type": "markdown",
   "metadata": {},
   "source": [
    "# run refOpt.sh in slurm\n",
    "    cd /data/gpfs/home/tfaske/g/balsam/refOpt\n",
    "    source activate ddocent_env\n",
    "    sbatch run_refOpt.sh"
   ]
  },
  {
   "cell_type": "markdown",
   "metadata": {},
   "source": [
    "# Visualize kopt"
   ]
  },
  {
   "cell_type": "code",
   "execution_count": 83,
   "metadata": {},
   "outputs": [
    {
     "name": "stdout",
     "output_type": "stream",
     "text": [
      "/data/gpfs/assoc/parchmanlab/tfaske/rabbruh/refOpt\n"
     ]
    }
   ],
   "source": [
    "cd $refOpt_dir"
   ]
  },
  {
   "cell_type": "code",
   "execution_count": 84,
   "metadata": {},
   "outputs": [
    {
     "name": "stderr",
     "output_type": "stream",
     "text": [
      "R[write to console]: Parsed with column specification:\n",
      "cols(\n",
      "  k1 = \u001b[32mcol_double()\u001b[39m,\n",
      "  k2 = \u001b[32mcol_double()\u001b[39m,\n",
      "  c = \u001b[32mcol_double()\u001b[39m,\n",
      "  contig = \u001b[32mcol_double()\u001b[39m\n",
      ")\n",
      "\n"
     ]
    },
    {
     "data": {
      "image/png": "[encoded data removed]"
     },
     "metadata": {},
     "output_type": "display_data"
    }
   ],
   "source": [
    "%%R\n",
    "library(readr)\n",
    "library(ggplot2)\n",
    "\n",
    "kopt <- read_table2('kopt.data',col_names = c('k1','k2','c','contig'))\n",
    "kopt$k <- paste0(kopt$k1,'_',kopt$k2)\n",
    "\n",
    "ggplot(data=kopt,aes(x=c,y=contig,colour=k)) + \n",
    "  geom_line() "
   ]
  },
  {
   "cell_type": "markdown",
   "metadata": {},
   "source": [
    "c = .94 is the winner!"
   ]
  },
  {
   "cell_type": "markdown",
   "metadata": {},
   "source": [
    "# MapOpt now!!!\n",
    "    This script assembles references across cutoff values and then maps 20 random samples and evaluates mappings to the reference, along with number of contigs and coverage.\n",
    "    \n",
    "    Moves fastq files from refOpt, runs dDocent to get trimmed files\n",
    "    \n",
    "    choose mapOpt sim from kopt above: 94 add +-2 (e.g. 92,96)"
   ]
  },
  {
   "cell_type": "code",
   "execution_count": 85,
   "metadata": {},
   "outputs": [
    {
     "name": "stdout",
     "output_type": "stream",
     "text": [
      "/data/gpfs/assoc/parchmanlab/tfaske/rabbruh\n"
     ]
    }
   ],
   "source": [
    "cd $root"
   ]
  },
  {
   "cell_type": "code",
   "execution_count": 86,
   "metadata": {},
   "outputs": [],
   "source": [
    "sim_val = [92,94,96]"
   ]
  },
  {
   "cell_type": "code",
   "execution_count": 87,
   "metadata": {},
   "outputs": [],
   "source": [
    "src_dir = '/data/gpfs/home/tfaske/g/src/refOpt/./'\n",
    "mapOpt_sh = []\n",
    "for sim in sim_val:\n",
    "    sh = src_dir + \"Map%d.sh\"%(sim)\n",
    "    mapOpt_sh.append(sh)"
   ]
  },
  {
   "cell_type": "code",
   "execution_count": 88,
   "metadata": {},
   "outputs": [
    {
     "data": {
      "text/plain": [
       "(3,\n",
       " ['/data/gpfs/home/tfaske/g/src/refOpt/./Map92.sh',\n",
       "  '/data/gpfs/home/tfaske/g/src/refOpt/./Map94.sh',\n",
       "  '/data/gpfs/home/tfaske/g/src/refOpt/./Map96.sh'])"
      ]
     },
     "execution_count": 88,
     "metadata": {},
     "output_type": "execute_result"
    }
   ],
   "source": [
    "len(mapOpt_sh), mapOpt_sh"
   ]
  },
  {
   "cell_type": "code",
   "execution_count": 98,
   "metadata": {},
   "outputs": [],
   "source": [
    "#RefMapOpt minK1 maxK1 minK2 maxK2 cluster_similarity Assembly_Type Num_of_Processors\n",
    "### select options\n",
    "minK1 = 4\n",
    "maxK1 = 10\n",
    "minK2 = 4\n",
    "maxK2 = 10\n",
    "Type = 'SE' \n",
    "Cpus = 16\n",
    "email = 'tfaske@nevada.unr.edu'"
   ]
  },
  {
   "cell_type": "code",
   "execution_count": 99,
   "metadata": {},
   "outputs": [
    {
     "name": "stdout",
     "output_type": "stream",
     "text": [
      "/data/gpfs/assoc/parchmanlab/tfaske/rabbruh/refOpt\n"
     ]
    }
   ],
   "source": [
    "cd $refOpt_dir"
   ]
  },
  {
   "cell_type": "code",
   "execution_count": 100,
   "metadata": {},
   "outputs": [],
   "source": [
    "def write_mapOpt_sh(mapOpt_sh,sim_val,minK1,maxK1,minK2,maxK2,Type,Cpus,email):\n",
    "    for i in range(0,len(mapOpt_sh)):\n",
    "        sh = mapOpt_sh[i]\n",
    "        sim = sim_val[i]\n",
    "        with open(\"run_mapOpt%d.sh\" % (sim), \"w\") as o:\n",
    "            o.write(\"\"\"#!/usr/bin/env bash\n",
    "#SBATCH --account=cpu-s1-bionres-0\n",
    "#SBATCH --partition=cpu-s1-bionres-0\n",
    "#SBATCH --ntasks 1\n",
    "#SBATCH --cpus-per-task %d\n",
    "#SBATCH --mem-per-cpu=2500\n",
    "#SBATCH --job-name mapOpt%d\n",
    "#SBATCH --output output_mapOpt%d.txt\n",
    "#SBATCH --mail-type=END\n",
    "#SBATCH --mail-user=%s\\n\\n\"\"\" % (Cpus,sim,sim,email))\n",
    "\n",
    "        #RefMapOpt minK1 maxK1 minK2 maxK2 cluster_similarity Assembly_Type Num_of_Processors\n",
    "            o.write(\"\"\"%s %d %d %d %d 0.%d %s %d\"\"\"% (sh,minK1,maxK1,minK2,maxK2,sim,Type,Cpus))"
   ]
  },
  {
   "cell_type": "code",
   "execution_count": 101,
   "metadata": {},
   "outputs": [],
   "source": [
    "write_mapOpt_sh(mapOpt_sh,sim_val,minK1,maxK1,minK2,maxK2,Type,Cpus,email)"
   ]
  },
  {
   "cell_type": "code",
   "execution_count": 102,
   "metadata": {},
   "outputs": [
    {
     "data": {
      "text/plain": [
       "['/data/gpfs/home/tfaske/g/rabbruh/refOpt/run_mapOpt92.sh',\n",
       " '/data/gpfs/home/tfaske/g/rabbruh/refOpt/run_mapOpt96.sh',\n",
       " '/data/gpfs/home/tfaske/g/rabbruh/refOpt/run_mapOpt94.sh']"
      ]
     },
     "execution_count": 102,
     "metadata": {},
     "output_type": "execute_result"
    }
   ],
   "source": [
    "mapShells = !find $refOpt_dir -name 'run_map*.sh'\n",
    "mapShells"
   ]
  },
  {
   "cell_type": "code",
   "execution_count": 103,
   "metadata": {},
   "outputs": [],
   "source": [
    "def write_sbatch_mapOpt(mapShells):\n",
    "         with open(\"sbatch_mapOpt.sh\", \"w\") as o:\n",
    "            o.write(\"\"\"#!/usr/bin/env bash \\n\"\"\")\n",
    "            for sh in mapShells:\n",
    "                o.write(\"\"\"sbatch %s\\n\"\"\" % (sh))"
   ]
  },
  {
   "cell_type": "code",
   "execution_count": 104,
   "metadata": {},
   "outputs": [],
   "source": [
    "write_sbatch_mapOpt(mapShells)"
   ]
  },
  {
   "cell_type": "code",
   "execution_count": null,
   "metadata": {},
   "outputs": [],
   "source": []
  },
  {
   "cell_type": "markdown",
   "metadata": {},
   "source": [
    "# Run all mapOpt*sh\n",
    "    cd /data/gpfs/home/tfaske/g/rabbruh/refOpt\n",
    "    source activate ddocent_env\n",
    "    bash sbatch_mapOpt.sh"
   ]
  },
  {
   "cell_type": "markdown",
   "metadata": {},
   "source": [
    "# Read in mapping results and make decision"
   ]
  },
  {
   "cell_type": "code",
   "execution_count": 106,
   "metadata": {},
   "outputs": [
    {
     "name": "stdout",
     "output_type": "stream",
     "text": [
      "/data/gpfs/assoc/parchmanlab/tfaske/rabbruh\n"
     ]
    }
   ],
   "source": [
    "cd $root"
   ]
  },
  {
   "cell_type": "code",
   "execution_count": 108,
   "metadata": {},
   "outputs": [
    {
     "data": {
      "text/plain": [
       "['./mapOpt94/mapping94.results',\n",
       " './mapOpt96/mapping96.results',\n",
       " './mapOpt92/mapping92.results']"
      ]
     },
     "execution_count": 108,
     "metadata": {},
     "output_type": "execute_result"
    }
   ],
   "source": [
    "mapResults = !find . -name 'mapping*results'\n",
    "mapResults"
   ]
  },
  {
   "cell_type": "code",
   "execution_count": 109,
   "metadata": {},
   "outputs": [
    {
     "name": "stdout",
     "output_type": "stream",
     "text": [
      "./mapOpt94/mapping94.results\n",
      "Cov\tNon0Cov\tContigs\tMeanContigsMapped\tK1\tK2\tSUM Mapped\tSUM Properly\tMean Mapped\tMean Properly\tMisMatched\n",
      "22.8121\t30.0835\t133555\t101218\t4\t4\t60933871\t0\t3.04669e+06\t0\t0\n",
      "29.1728\t36.378\t102658\t82269.2\t4\t5\t59896915\t0\t2.99485e+06\t0\t0\n",
      "36.3653\t43.7766\t80827\t67097.7\t4\t6\t58786734\t0\t2.93934e+06\t0\t0\n",
      "44.9355\t52.5267\t64001\t54717.7\t4\t7\t57519180\t0\t2875959\t0\t0\n",
      "54.543\t62.8934\t51264\t44432.7\t4\t8\t55922903\t0\t2.79615e+06\t0\t0\n",
      "66.6825\t76.1957\t40832\t35716.5\t4\t9\t54456919\t0\t2.72285e+06\t0\t0\n",
      "91.0347\t93.0847\t29158\t28505\t4\t10\t53089600\t0\t2654480\t0\t0\n",
      "28.1312\t35.4425\t106870\t84775.9\t5\t4\t60128063\t0\t3.0064e+06\t0\t0\n",
      "36.163\t43.5413\t81319\t67498.1\t5\t5\t58815409\t0\t2.94077e+06\t0\t0\n",
      "46.3819\t53.0943\t61609\t53790.8\t5\t6\t57151842\t0\t2.85759e+06\t0\t0\n",
      "62.0845\t64.8278\t44937\t43014.3\t5\t7\t55799028\t0\t2.78995e+06\t0\t0\n",
      "76.4981\t78.9213\t35536\t34430\t5\t8\t54370225\t0\t2.71851e+06\t0\t0\n",
      "94.1068\t96.3101\t28139\t27486.5\t5\t9\t52963310\t0\t2.64817e+06\t0\t0\n",
      "116.285\t118.364\t22102\t21708.4\t5\t10\t51404743\t0\t2.57024e+06\t0\t0\n",
      "37.3761\t41.8145\t78751\t70353.8\t6\t4\t58868883\t0\t2.94344e+06\t0\t0\n",
      "48.4381\t52.1036\t59105\t54920.4\t6\t5\t57259639\t0\t2.86298e+06\t0\t0\n",
      "61.7069\t64.787\t45254\t43085.2\t6\t6\t55850954\t0\t2.79255e+06\t0\t0\n",
      "76.8665\t79.567\t35322\t34110.8\t6\t7\t54303080\t0\t2715154\t0\t0\n",
      "95.5549\t97.9837\t27639\t26946.3\t6\t8\t52822697\t0\t2.64113e+06\t0\t0\n",
      "117.962\t120.227\t21763\t21349\t6\t9\t51346388\t0\t2.56732e+06\t0\t0\n",
      "146.327\t148.502\t17042\t16790.8\t6\t10\t49876984\t0\t2.49385e+06\t0\t0\n",
      "44.977\t49.3119\t63915\t58272\t7\t4\t57494964\t0\t2.87475e+06\t0\t0\n",
      "58.9672\t62.5621\t47410\t44669.9\t7\t5\t55913912\t0\t2.7957e+06\t0\t0\n",
      "75.3276\t78.4187\t35975\t34547.6\t7\t6\t54199701\t0\t2.70999e+06\t0\t0\n",
      "94.4701\t97.1963\t27965\t27174.3\t7\t7\t52838985\t0\t2.64195e+06\t0\t0\n",
      "118.154\t120.685\t21747\t21288.2\t7\t8\t51392185\t0\t2.56961e+06\t0\t0\n",
      "146.375\t148.742\t17071\t16798.3\t7\t9\t49978378\t0\t2.49892e+06\t0\t0\n",
      "180.76\t183.02\t13450\t13284\t7\t10\t48627934\t0\t2.4314e+06\t0\t0\n",
      "54.0937\t58.356\t52011\t48198\t8\t4\t56270439\t0\t2.81352e+06\t0\t0\n",
      "71.3435\t74.9596\t38218\t36366.1\t8\t5\t54533557\t0\t2.72668e+06\t0\t0\n",
      "91.2315\t94.3281\t29034\t28077\t8\t6\t52978145\t0\t2.64891e+06\t0\t0\n",
      "114.82\t117.606\t22419\t21885.8\t8\t7\t51485503\t0\t2.57428e+06\t0\t0\n",
      "143.306\t145.941\t17459\t17142.9\t8\t8\t50042447\t0\t2.50212e+06\t0\t0\n",
      "177.423\t179.884\t13721\t13533.5\t8\t9\t48691981\t0\t2.4346e+06\t0\t0\n",
      "218.003\t220.383\t10871\t10754.5\t8\t10\t47402667\t0\t2.37013e+06\t0\t0\n",
      "64.5916\t68.8983\t42604\t39933.6\t9\t4\t55038479\t0\t2.75192e+06\t0\t0\n",
      "85.7018\t89.3565\t31168\t29890.5\t9\t5\t53424762\t0\t2.67124e+06\t0\t0\n",
      "109.936\t113.105\t23565\t22904.2\t9\t6\t51815053\t0\t2.59075e+06\t0\t0\n",
      "138.128\t141.053\t18209\t17831.5\t9\t7\t50306320\t0\t2515316\t0\t0\n",
      "171.452\t174.178\t14256\t14033.2\t9\t8\t48887714\t0\t2.44439e+06\t0\t0\n",
      "211.929\t214.581\t11235\t11097.1\t9\t9\t47624668\t0\t2.38123e+06\t0\t0\n",
      "259.029\t261.503\t8951\t8867.55\t9\t10\t46376607\t0\t2.31883e+06\t0\t0\n",
      "76.0841\t80.4411\t35262\t33349.4\t10\t4\t53659083\t0\t2.68295e+06\t0\t0\n",
      "102.054\t105.794\t25548\t24645.2\t10\t5\t52147543\t0\t2.60738e+06\t0\t0\n",
      "130.868\t134.185\t19316\t18839.7\t10\t6\t50559536\t0\t2.52798e+06\t0\t0\n",
      "164.011\t167.102\t14959\t14683.9\t10\t7\t49072143\t0\t2.45361e+06\t0\t0\n",
      "202.259\t205.18\t11820\t11653.2\t10\t8\t47817956\t0\t2.3909e+06\t0\t0\n",
      "246.972\t249.794\t9459\t9353.55\t10\t9\t46727133\t0\t2.33636e+06\t0\t0\n",
      "302.12\t304.764\t7538\t7474.05\t10\t10\t45553618\t0\t2.27768e+06\t0\t0\n",
      "\n",
      "\n",
      "./mapOpt96/mapping96.results\n",
      "Cov\tNon0Cov\tContigs\tMeanContigsMapped\tK1\tK2\tSUM Mapped\tSUM Properly\tMean Mapped\tMean Properly\tMisMatched\n",
      "17.9373\t24.1547\t162728\t120885\t4\t4\t58378243\t0\t2.91891e+06\t0\t0\n",
      "23.5684\t29.5904\t121593\t96872.1\t4\t5\t57315599\t0\t2.86578e+06\t0\t0\n",
      "30.0057\t36.0595\t93735\t78010.2\t4\t6\t56252281\t0\t2.81261e+06\t0\t0\n",
      "37.773\t43.8598\t73080\t62943.8\t4\t7\t55209823\t0\t2.76049e+06\t0\t0\n",
      "46.2202\t52.7739\t57995\t50795.8\t4\t8\t53611751\t0\t2.68059e+06\t0\t0\n",
      "57.0898\t64.5003\t45853\t40586.3\t4\t9\t52355948\t0\t2.6178e+06\t0\t0\n",
      "77.7555\t79.4739\t32944\t32233.2\t4\t10\t51233079\t0\t2.56165e+06\t0\t0\n",
      "22.3492\t28.6051\t128529\t100451\t5\t4\t57450805\t0\t2.87254e+06\t0\t0\n",
      "29.5099\t35.6393\t95212\t78852.4\t5\t5\t56194444\t0\t2.80972e+06\t0\t0\n",
      "38.5471\t44.0179\t70948\t62138.8\t5\t6\t54697508\t0\t2.73488e+06\t0\t0\n",
      "51.6825\t54.2052\t51740\t49336.9\t5\t7\t53482072\t0\t2.6741e+06\t0\t0\n",
      "64.2776\t66.4176\t40566\t39261.7\t5\t8\t52150973\t0\t2.60755e+06\t0\t0\n",
      "79.576\t81.4503\t31951\t31217.8\t5\t9\t50852257\t0\t2.54261e+06\t0\t0\n",
      "99.2106\t100.92\t25028\t24605.7\t5\t10\t49662809\t0\t2.48314e+06\t0\t0\n",
      "29.5836\t33.9532\t95067\t82853.6\t6\t4\t56249040\t0\t2812452\t0\t0\n",
      "39.3807\t42.9341\t69551\t63806.6\t6\t5\t54780168\t0\t2.73901e+06\t0\t0\n",
      "50.8611\t53.7623\t52428\t49606.1\t6\t6\t53331896\t0\t2.66659e+06\t0\t0\n",
      "64.5119\t66.9894\t40489\t38996.1\t6\t7\t52241743\t0\t2.61209e+06\t0\t0\n",
      "80.6614\t82.7945\t31487\t30678.5\t6\t8\t50797316\t0\t2.53987e+06\t0\t0\n",
      "99.9466\t101.847\t24738\t24278.2\t6\t9\t49451615\t0\t2.47258e+06\t0\t0\n",
      "124.711\t126.463\t19335\t19069.1\t6\t10\t48228422\t0\t2.41142e+06\t0\t0\n",
      "35.9458\t40.2219\t76301\t68206.4\t7\t4\t54854784\t0\t2.74274e+06\t0\t0\n",
      "48.1794\t51.6511\t55380\t51667.5\t7\t5\t53364435\t0\t2.66822e+06\t0\t0\n",
      "62.5819\t65.4901\t41531\t39692.4\t7\t6\t51983007\t0\t2.59915e+06\t0\t0\n",
      "79.4689\t81.9488\t32017\t31051.6\t7\t7\t50888742\t0\t2.54444e+06\t0\t0\n",
      "99.5711\t101.76\t24815\t24283.5\t7\t8\t49419123\t0\t2.47096e+06\t0\t0\n",
      "123.679\t125.626\t19448\t19148.4\t7\t9\t48108784\t0\t2.40544e+06\t0\t0\n",
      "152.865\t154.661\t15361\t15184.2\t7\t10\t46966212\t0\t2.34831e+06\t0\t0\n",
      "43.7241\t47.9578\t61540\t56121.8\t8\t4\t53816474\t0\t2.69082e+06\t0\t0\n",
      "58.6255\t62.1018\t44459\t41978.4\t8\t5\t52129805\t0\t2.60649e+06\t0\t0\n",
      "76.2483\t79.1537\t33411\t32189.7\t8\t6\t50952134\t0\t2.54761e+06\t0\t0\n",
      "96.6746\t99.1973\t25649\t25000.2\t8\t7\t49594023\t0\t2.4797e+06\t0\t0\n",
      "120.491\t122.737\t19971\t19607.8\t8\t8\t48128937\t0\t2.40645e+06\t0\t0\n",
      "148.777\t150.776\t15737\t15530\t8\t9\t46829104\t0\t2.34146e+06\t0\t0\n",
      "183.059\t184.938\t12494\t12368.5\t8\t10\t45746561\t0\t2.28733e+06\t0\t0\n",
      "52.6399\t56.9012\t50065\t46327.1\t9\t4\t52709396\t0\t2.63547e+06\t0\t0\n",
      "70.9948\t74.5357\t36137\t34427.7\t9\t5\t51312208\t0\t2.56561e+06\t0\t0\n",
      "92.0418\t94.9976\t27068\t26230.5\t9\t6\t49829557\t0\t2.49148e+06\t0\t0\n",
      "116.73\t119.346\t20825\t20371.2\t9\t7\t48620214\t0\t2.43101e+06\t0\t0\n",
      "144.259\t146.558\t16361\t16106.1\t9\t8\t47207407\t0\t2.36037e+06\t0\t0\n",
      "177.844\t179.946\t12928\t12778.4\t9\t9\t45986849\t0\t2.29934e+06\t0\t0\n",
      "216.241\t218.177\t10343\t10252.3\t9\t10\t44735833\t0\t2.23679e+06\t0\t0\n",
      "62.2885\t66.6024\t41330\t38662.3\t10\t4\t51488904\t0\t2.57445e+06\t0\t0\n",
      "84.3697\t87.9572\t29595\t28394.3\t10\t5\t49940117\t0\t2.49701e+06\t0\t0\n",
      "108.647\t111.697\t22269\t21665.3\t10\t6\t48391427\t0\t2.41957e+06\t0\t0\n",
      "137.174\t139.854\t17227\t16899.6\t10\t7\t47264763\t0\t2.36324e+06\t0\t0\n",
      "168.808\t171.204\t13645\t13455.8\t10\t8\t46071007\t0\t2.30355e+06\t0\t0\n",
      "205.78\t207.957\t10956\t10842.5\t10\t9\t45094590\t0\t2.25473e+06\t0\t0\n",
      "250.077\t252.065\t8775\t8706.7\t10\t10\t43893533\t0\t2.19468e+06\t0\t0\n",
      "\n",
      "\n",
      "./mapOpt92/mapping92.results\n",
      "Cov\tNon0Cov\tContigs\tMeanContigsMapped\tK1\tK2\tSUM Mapped\tSUM Properly\tMean Mapped\tMean Properly\tMisMatched\n",
      "25.5227\t32.7152\t123587\t96425.1\t4\t4\t63085944\t0\t3.1543e+06\t0\t0\n",
      "32.2458\t39.2555\t96075\t78919.4\t4\t5\t61961002\t0\t3.09805e+06\t0\t0\n",
      "39.8615\t47.0451\t76324\t64667.3\t4\t6\t60848648\t0\t3.04243e+06\t0\t0\n",
      "48.8748\t56.1372\t60899\t53018.7\t4\t7\t59529454\t0\t2.97647e+06\t0\t0\n",
      "58.7787\t66.6786\t49127\t43305.7\t4\t8\t57753559\t0\t2.88768e+06\t0\t0\n",
      "78.2132\t80.1894\t35935\t35049.6\t4\t9\t56213370\t0\t2.81067e+06\t0\t0\n",
      "95.8971\t97.6525\t28544\t28032\t4\t10\t54747605\t0\t2.73738e+06\t0\t0\n",
      "30.8934\t38.0134\t99992\t81267.6\t5\t4\t61782479\t0\t3.08912e+06\t0\t0\n",
      "39.9075\t46.4706\t75737\t65039.9\t5\t5\t60450281\t0\t3.02251e+06\t0\t0\n",
      "50.0193\t56.3834\t58811\t52172.9\t5\t6\t58834705\t0\t2.94174e+06\t0\t0\n",
      "61.9241\t68.772\t46532\t41898.9\t5\t7\t57630256\t0\t2.88151e+06\t0\t0\n",
      "80.5831\t82.7503\t34720\t33811.7\t5\t8\t55958493\t0\t2.79792e+06\t0\t0\n",
      "98.7398\t100.626\t27600\t27084.4\t5\t9\t54506367\t0\t2.72532e+06\t0\t0\n",
      "121.954\t123.617\t21719\t21428.7\t5\t10\t52976607\t0\t2.64883e+06\t0\t0\n",
      "40.443\t44.895\t75205\t67749.4\t6\t4\t60831118\t0\t3.04156e+06\t0\t0\n",
      "52.0244\t55.5903\t56731\t53093\t6\t5\t59028928\t0\t2.95145e+06\t0\t0\n",
      "65.8784\t68.8096\t43721\t41860.2\t6\t6\t57606719\t0\t2.88034e+06\t0\t0\n",
      "81.8473\t84.314\t34288\t33286.7\t6\t7\t56129211\t0\t2.80646e+06\t0\t0\n",
      "100.82\t102.929\t27008\t26456.3\t6\t8\t54460806\t0\t2.72304e+06\t0\t0\n",
      "124.076\t125.936\t21321\t21008.2\t6\t9\t52910923\t0\t2.64555e+06\t0\t0\n",
      "154.265\t155.891\t16674\t16502.3\t6\t10\t51447372\t0\t2.57237e+06\t0\t0\n",
      "48.3538\t52.6393\t61318\t56329.2\t7\t4\t59300087\t0\t2.965e+06\t0\t0\n",
      "63.1395\t66.573\t45594\t43244.9\t7\t5\t57576918\t0\t2.87885e+06\t0\t0\n",
      "80.0013\t82.8064\t34856\t33677.6\t7\t6\t55772079\t0\t2.7886e+06\t0\t0\n",
      "99.8554\t102.239\t27178\t26546.8\t7\t7\t54279413\t0\t2.71397e+06\t0\t0\n",
      "124.405\t126.475\t21224\t20879.2\t7\t8\t52810006\t0\t2.6405e+06\t0\t0\n",
      "153.465\t155.309\t16690\t16494.1\t7\t9\t51229646\t0\t2.56148e+06\t0\t0\n",
      "190.628\t192.231\t13081\t12974\t7\t10\t49875997\t0\t2.4938e+06\t0\t0\n",
      "58.1828\t62.3469\t49972\t46638.7\t8\t4\t58151382\t0\t2.90757e+06\t0\t0\n",
      "76.1144\t79.4675\t36877\t35324.6\t8\t5\t56138948\t0\t2.80695e+06\t0\t0\n",
      "96.6545\t99.4393\t28188\t27401.7\t8\t6\t54491861\t0\t2.72459e+06\t0\t0\n",
      "121.216\t123.526\t21828\t21422.2\t8\t7\t52920236\t0\t2.64601e+06\t0\t0\n",
      "150.788\t152.858\t17071\t16842.1\t8\t8\t51485092\t0\t2.57425e+06\t0\t0\n",
      "187.094\t188.926\t13343\t13215.8\t8\t9\t49931708\t0\t2.49659e+06\t0\t0\n",
      "230.598\t232.165\t10532\t10463\t8\t10\t48577760\t0\t2428888\t0\t0\n",
      "69.0754\t73.1772\t41034\t38738.3\t9\t4\t56690196\t0\t2.83451e+06\t0\t0\n",
      "90.6997\t94.0082\t30218\t29158.3\t9\t5\t54817065\t0\t2.74085e+06\t0\t0\n",
      "116.409\t119.165\t22885\t22358.8\t9\t6\t53282730\t0\t2.66414e+06\t0\t0\n",
      "146.498\t148.812\t17661\t17389.2\t9\t7\t51748883\t0\t2.58744e+06\t0\t0\n",
      "180.873\t182.936\t13876\t13721.7\t9\t8\t50199557\t0\t2.50998e+06\t0\t0\n",
      "223.574\t225.374\t10905\t10820\t9\t9\t48766049\t0\t2.4383e+06\t0\t0\n",
      "274.29\t275.811\t8653\t8607.15\t9\t10\t47474083\t0\t2.3737e+06\t0\t0\n",
      "81.2582\t85.3408\t34042\t32418.2\t10\t4\t55325463\t0\t2.76627e+06\t0\t0\n",
      "107.618\t110.915\t24814\t24080.4\t10\t5\t53410990\t0\t2.67055e+06\t0\t0\n",
      "138.347\t141.15\t18758\t18388.8\t10\t6\t51905077\t0\t2.59525e+06\t0\t0\n",
      "173.27\t175.615\t14540\t14348.5\t10\t7\t50390498\t0\t2.51952e+06\t0\t0\n",
      "213.47\t215.584\t11472\t11361.8\t10\t8\t48982780\t0\t2449139\t0\t0\n",
      "261.705\t263.512\t9156\t9095.2\t10\t9\t47928668\t0\t2.39643e+06\t0\t0\n",
      "319.897\t321.444\t7309\t7275.55\t10\t10\t46768999\t0\t2.33845e+06\t0\t0\n"
     ]
    },
    {
     "name": "stdout",
     "output_type": "stream",
     "text": [
      "\n",
      "\n"
     ]
    }
   ],
   "source": [
    "for mR in mapResults:\n",
    "    print(mR)\n",
    "    !cat $mR\n",
    "    print('\\n')"
   ]
  },
  {
   "cell_type": "code",
   "execution_count": 122,
   "metadata": {},
   "outputs": [
    {
     "name": "stderr",
     "output_type": "stream",
     "text": [
      "R[write to console]: Parsed with column specification:\n",
      "cols(\n",
      "  Cov = \u001b[32mcol_double()\u001b[39m,\n",
      "  Non0Cov = \u001b[32mcol_double()\u001b[39m,\n",
      "  Contigs = \u001b[32mcol_double()\u001b[39m,\n",
      "  MeanContigsMapped = \u001b[32mcol_double()\u001b[39m,\n",
      "  K1 = \u001b[32mcol_double()\u001b[39m,\n",
      "  K2 = \u001b[32mcol_double()\u001b[39m,\n",
      "  SUM = \u001b[32mcol_double()\u001b[39m,\n",
      "  Mapped = \u001b[32mcol_double()\u001b[39m,\n",
      "  SUM_1 = \u001b[32mcol_double()\u001b[39m,\n",
      "  Properly = \u001b[32mcol_double()\u001b[39m,\n",
      "  Mean = \u001b[32mcol_double()\u001b[39m,\n",
      "  Mapped_1 = \u001b[31mcol_character()\u001b[39m,\n",
      "  Mean_1 = \u001b[31mcol_character()\u001b[39m,\n",
      "  Properly_1 = \u001b[31mcol_character()\u001b[39m,\n",
      "  MisMatched = \u001b[31mcol_character()\u001b[39m\n",
      ")\n",
      "\n",
      "R[write to console]: Warning:\n",
      "R[write to console]:  49 parsing failures.\n",
      "row col   expected     actual                         file\n",
      "  1  -- 15 columns 11 columns 'mapOpt92/mapping92.results'\n",
      "  2  -- 15 columns 11 columns 'mapOpt92/mapping92.results'\n",
      "  3  -- 15 columns 11 columns 'mapOpt92/mapping92.results'\n",
      "  4  -- 15 columns 11 columns 'mapOpt92/mapping92.results'\n",
      "  5  -- 15 columns 11 columns 'mapOpt92/mapping92.results'\n",
      "... ... .......... .......... ............................\n",
      "See problems(...) for more details.\n",
      "\n",
      "\n",
      "R[write to console]: Parsed with column specification:\n",
      "cols(\n",
      "  Cov = \u001b[32mcol_double()\u001b[39m,\n",
      "  Non0Cov = \u001b[32mcol_double()\u001b[39m,\n",
      "  Contigs = \u001b[32mcol_double()\u001b[39m,\n",
      "  MeanContigsMapped = \u001b[32mcol_double()\u001b[39m,\n",
      "  K1 = \u001b[32mcol_double()\u001b[39m,\n",
      "  K2 = \u001b[32mcol_double()\u001b[39m,\n",
      "  SUM = \u001b[32mcol_double()\u001b[39m,\n",
      "  Mapped = \u001b[32mcol_double()\u001b[39m,\n",
      "  SUM_1 = \u001b[32mcol_double()\u001b[39m,\n",
      "  Properly = \u001b[32mcol_double()\u001b[39m,\n",
      "  Mean = \u001b[32mcol_double()\u001b[39m,\n",
      "  Mapped_1 = \u001b[31mcol_character()\u001b[39m,\n",
      "  Mean_1 = \u001b[31mcol_character()\u001b[39m,\n",
      "  Properly_1 = \u001b[31mcol_character()\u001b[39m,\n",
      "  MisMatched = \u001b[31mcol_character()\u001b[39m\n",
      ")\n",
      "\n",
      "R[write to console]: Warning:\n",
      "R[write to console]:  49 parsing failures.\n",
      "row col   expected     actual                         file\n",
      "  1  -- 15 columns 11 columns 'mapOpt94/mapping94.results'\n",
      "  2  -- 15 columns 11 columns 'mapOpt94/mapping94.results'\n",
      "  3  -- 15 columns 11 columns 'mapOpt94/mapping94.results'\n",
      "  4  -- 15 columns 11 columns 'mapOpt94/mapping94.results'\n",
      "  5  -- 15 columns 11 columns 'mapOpt94/mapping94.results'\n",
      "... ... .......... .......... ............................\n",
      "See problems(...) for more details.\n",
      "\n",
      "\n",
      "R[write to console]: Parsed with column specification:\n",
      "cols(\n",
      "  Cov = \u001b[32mcol_double()\u001b[39m,\n",
      "  Non0Cov = \u001b[32mcol_double()\u001b[39m,\n",
      "  Contigs = \u001b[32mcol_double()\u001b[39m,\n",
      "  MeanContigsMapped = \u001b[32mcol_double()\u001b[39m,\n",
      "  K1 = \u001b[32mcol_double()\u001b[39m,\n",
      "  K2 = \u001b[32mcol_double()\u001b[39m,\n",
      "  SUM = \u001b[32mcol_double()\u001b[39m,\n",
      "  Mapped = \u001b[32mcol_double()\u001b[39m,\n",
      "  SUM_1 = \u001b[32mcol_double()\u001b[39m,\n",
      "  Properly = \u001b[32mcol_double()\u001b[39m,\n",
      "  Mean = \u001b[32mcol_double()\u001b[39m,\n",
      "  Mapped_1 = \u001b[31mcol_character()\u001b[39m,\n",
      "  Mean_1 = \u001b[31mcol_character()\u001b[39m,\n",
      "  Properly_1 = \u001b[31mcol_character()\u001b[39m,\n",
      "  MisMatched = \u001b[31mcol_character()\u001b[39m\n",
      ")\n",
      "\n",
      "R[write to console]: Warning:\n",
      "R[write to console]:  49 parsing failures.\n",
      "row col   expected     actual                         file\n",
      "  1  -- 15 columns 11 columns 'mapOpt96/mapping96.results'\n",
      "  2  -- 15 columns 11 columns 'mapOpt96/mapping96.results'\n",
      "  3  -- 15 columns 11 columns 'mapOpt96/mapping96.results'\n",
      "  4  -- 15 columns 11 columns 'mapOpt96/mapping96.results'\n",
      "  5  -- 15 columns 11 columns 'mapOpt96/mapping96.results'\n",
      "... ... .......... .......... ............................\n",
      "See problems(...) for more details.\n",
      "\n",
      "\n"
     ]
    },
    {
     "name": "stdout",
     "output_type": "stream",
     "text": [
      "       Cov Non0Cov Contigs MeanContigsMapped K1 K2      SUM Mapped   SUM_1\n",
      "1: 25.5227 32.7152  123587           96425.1  4  4 63085944      0 3154300\n",
      "2: 32.2458 39.2555   96075           78919.4  4  5 61961002      0 3098050\n",
      "3: 39.8615 47.0451   76324           64667.3  4  6 60848648      0 3042430\n",
      "4: 48.8748 56.1372   60899           53018.7  4  7 59529454      0 2976470\n",
      "5: 58.7787 66.6786   49127           43305.7  4  8 57753559      0 2887680\n",
      "6: 78.2132 80.1894   35935           35049.6  4  9 56213370      0 2810670\n",
      "   Properly Mean Mapped_1 Mean_1 Properly_1 MisMatched   k sim      ratio\n",
      "1:        0    0     <NA>   <NA>       <NA>       <NA> 4_4  92 -0.8444856\n",
      "2:        0    0     <NA>   <NA>       <NA>       <NA> 4_5  92 -0.9337206\n",
      "3:        0    0     <NA>   <NA>       <NA>       <NA> 4_6  92 -1.0406460\n",
      "4:        0    0     <NA>   <NA>       <NA>       <NA> 4_7  92 -1.1379189\n",
      "5:        0    0     <NA>   <NA>       <NA>       <NA> 4_8  92 -1.1922613\n",
      "6:        0    0     <NA>   <NA>       <NA>       <NA> 4_9  92 -2.0023411\n"
     ]
    }
   ],
   "source": [
    "%%R \n",
    "library(readr)\n",
    "setwd('/data/gpfs/assoc/parchmanlab/tfaske/rabbruh')\n",
    "\n",
    "mapping92 <- read_table2('mapOpt92/mapping92.results')\n",
    "mapping92$k <- paste0(mapping92$K1,'_',mapping92$K2)\n",
    "mapping92$sim <- '92'\n",
    "mapping92$ratio <- scale(mapping92$SUM_1) / (scale(mapping92$MeanContigsMapped) / scale(mapping92$Cov) )\n",
    "\n",
    "\n",
    "mapping94 <- read_table2('mapOpt94/mapping94.results')\n",
    "mapping94$k <- paste0(mapping94$K1,'_',mapping94$K2)\n",
    "mapping94$sim <- '94'\n",
    "mapping94$ratio <- scale(mapping94$SUM_1) / (scale(mapping94$MeanContigsMapped) / scale(mapping94$Cov) )\n",
    "\n",
    "mapping96 <- read_table2('mapOpt96/mapping96.results')\n",
    "mapping96$k <- paste0(mapping96$K1,'_',mapping96$K2)\n",
    "mapping96$sim <- '96'\n",
    "mapping96$ratio <- scale(mapping96$SUM_1) / (scale(mapping96$MeanContigsMapped) / scale(mapping96$Cov) )\n",
    "\n",
    "#print(mapping92)\n",
    "#print(mapping94)\n",
    "#print(mapping96)\n",
    "\n",
    "#map_df\n",
    "map_df <- rbindlist(list(mapping92,mapping94,mapping96))\n",
    "head(map_df)"
   ]
  },
  {
   "cell_type": "code",
   "execution_count": 123,
   "metadata": {},
   "outputs": [
    {
     "data": {
      "image/png": "[encoded data removed]"
     },
     "metadata": {},
     "output_type": "display_data"
    }
   ],
   "source": [
    "%%R\n",
    "ggplot(data=map_df,aes(x=k,y=ratio,color=as.factor(sim))) + \n",
    "    geom_line(aes(group=as.factor(sim))) + theme_bw()"
   ]
  },
  {
   "cell_type": "code",
   "execution_count": 124,
   "metadata": {},
   "outputs": [
    {
     "name": "stdout",
     "output_type": "stream",
     "text": [
      "              Cov           Non0Cov           Contigs MeanContigsMapped \n",
      "     1.033130e+02      1.068211e+02      3.936802e+04      3.555571e+04 \n",
      "               K1                K2               SUM             SUM_1 \n",
      "     7.000000e+00      7.000000e+00      5.292932e+07      2.646466e+06 \n"
     ]
    }
   ],
   "source": [
    "%%R \n",
    "colMeans(map_df[,c(1:7,9)])"
   ]
  },
  {
   "cell_type": "code",
   "execution_count": 125,
   "metadata": {},
   "outputs": [
    {
     "data": {
      "image/png": "[encoded data removed]"
     },
     "metadata": {},
     "output_type": "display_data"
    }
   ],
   "source": [
    "%%R\n",
    "map_top <- map_df[which(map_df$ratio > quantile(map_df$ratio,probs=.75)),]\n",
    "\n",
    "#SUM Properly\n",
    "ggplot(data=map_top,aes(x=k,y=ratio,color=as.factor(sim))) + \n",
    "    geom_line(aes(group=as.factor(sim))) + theme_bw()"
   ]
  },
  {
   "cell_type": "code",
   "execution_count": 126,
   "metadata": {},
   "outputs": [
    {
     "data": {
      "image/png": "[encoded data removed]"
     },
     "metadata": {},
     "output_type": "display_data"
    }
   ],
   "source": [
    "%%R\n",
    "map_bot <- map_df[which(map_df$ratio < quantile(map_df$ratio,probs=.25)),]\n",
    "\n",
    "#SUM Properly\n",
    "ggplot(data=map_bot,aes(x=k,y=ratio,color=as.factor(sim))) + \n",
    "    geom_line(aes(group=as.factor(sim))) + theme_bw()"
   ]
  },
  {
   "cell_type": "code",
   "execution_count": 127,
   "metadata": {},
   "outputs": [
    {
     "name": "stdout",
     "output_type": "stream",
     "text": [
      "        Cov  Non0Cov Contigs MeanContigsMapped K1 K2      SUM   SUM_1 sim\n",
      "1:  80.5831  82.7503   34720           33811.7  5  8 55958493 2797920  92\n",
      "2:  81.8473  84.3140   34288           33286.7  6  7 56129211 2806460  92\n",
      "3: 154.2650 155.8910   16674           16502.3  6 10 51447372 2572370  92\n",
      "4:  76.4981  78.9213   35536           34430.0  5  8 54370225 2718510  94\n",
      "5:  76.8665  79.5670   35322           34110.8  6  7 54303080 2715154  94\n",
      "6: 146.3270 148.5020   17042           16790.8  6 10 49876984 2493850  94\n",
      "7:  64.2776  66.4176   40566           39261.7  5  8 52150973 2607550  96\n",
      "8:  64.5119  66.9894   40489           38996.1  6  7 52241743 2612090  96\n",
      "9: 124.7110 126.4630   19335           19069.1  6 10 48228422 2411420  96\n"
     ]
    }
   ],
   "source": [
    "%%R\n",
    "map_df[which(map_df$k %in% c('6_7','5_8','6_10')),c(1:7,9,17)]"
   ]
  },
  {
   "cell_type": "markdown",
   "metadata": {},
   "source": [
    "# Map results \n",
    "    sim=92 K1=6 k2=7 WINNER\n",
    "    \n",
    "    remake reference in fastq using these parameters. Move reference.fasta to assembly dir"
   ]
  }
 ],
 "metadata": {
  "kernelspec": {
   "display_name": "Python 3",
   "language": "python",
   "name": "python3"
  },
  "language_info": {
   "codemirror_mode": {
    "name": "ipython",
    "version": 3
   },
   "file_extension": ".py",
   "mimetype": "text/x-python",
   "name": "python",
   "nbconvert_exporter": "python",
   "pygments_lexer": "ipython3",
   "version": "3.6.9"
  }
 },
 "nbformat": 4,
 "nbformat_minor": 1
}
