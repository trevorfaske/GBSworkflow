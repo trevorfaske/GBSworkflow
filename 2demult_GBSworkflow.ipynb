{
 "cells": [
  {
   "cell_type": "markdown",
   "metadata": {},
   "source": [
    "# Demultplexing raw fastq file (post tapioca)"
   ]
  },
  {
   "cell_type": "code",
   "execution_count": 42,
   "metadata": {
    "ExecuteTime": {}
   },
   "outputs": [],
   "source": [
    "!source activate py36"
   ]
  },
  {
   "cell_type": "code",
   "execution_count": 43,
   "metadata": {
    "ExecuteTime": {}
   },
   "outputs": [],
   "source": [
    "import sys\n",
    "\n",
    "sys.path.append('/home/faske/g/anaconda3/envs/py36/lib/python3.6/site-packages')\n",
    "sys.path.append(\"/home/faske/g/ipynb/include_utils\")\n",
    "\n",
    "import ipyparallel as ipp\n",
    "import os, time\n",
    "import include_utils as u\n",
    "import pandas as pd\n",
    "import numpy as np\n",
    "import scipy as sp\n",
    "import numbers\n",
    "import matplotlib.pyplot as plt\n",
    "import matplotlib.patches as mpatches\n",
    "import matplotlib.cm as cm\n",
    "import matplotlib.colors as mcolors\n",
    "#import vcf\n",
    "from sklearn import preprocessing\n",
    "from subprocess import Popen, PIPE, call, check_output\n",
    "import seaborn as sns\n",
    "from IPython.display import FileLink\n",
    "import urllib.request as urllib2\n",
    "import dill\n",
    "import traceback\n",
    "from pandas import Series, DataFrame\n",
    "import gzip\n",
    "import warnings\n",
    "warnings.filterwarnings('ignore',category=pd.io.pytables.PerformanceWarning)\n",
    "%config InlineBackend.figure_format = 'retina'\n",
    "from Bio import SeqIO\n",
    "#import pysam\n",
    "from collections import OrderedDict, namedtuple, Counter\n",
    "import operator\n",
    "import multiprocessing as mp\n",
    "import shutil\n",
    "import tempfile\n",
    "#from ipyparallel import Client\n",
    "import scandir\n",
    "import glob\n",
    "from Bio.SeqIO.QualityIO import FastqGeneralIterator\n",
    "import pickle\n",
    "#import Levenshtein as lv"
   ]
  },
  {
   "cell_type": "code",
   "execution_count": 44,
   "metadata": {
    "ExecuteTime": {}
   },
   "outputs": [],
   "source": [
    "root = \"/home/faske/g/balsam\""
   ]
  },
  {
   "cell_type": "code",
   "execution_count": 45,
   "metadata": {
    "ExecuteTime": {}
   },
   "outputs": [
    {
     "name": "stdout",
     "output_type": "stream",
     "text": [
      "/working/tfaske/balsam\n"
     ]
    }
   ],
   "source": [
    "cd $root"
   ]
  },
  {
   "cell_type": "code",
   "execution_count": 46,
   "metadata": {
    "ExecuteTime": {}
   },
   "outputs": [
    {
     "data": {
      "text/plain": [
       "'/working/tfaske/balsam'"
      ]
     },
     "execution_count": 46,
     "metadata": {},
     "output_type": "execute_result"
    }
   ],
   "source": [
    "pwd"
   ]
  },
  {
   "cell_type": "markdown",
   "metadata": {},
   "source": [
    "# Find and manipulate barcode files \n",
    "    barcode files need to be in *.csv form\n",
    "    make lib.txt file to split each individual to own fastq file\n",
    "    \n",
    "    RUN THIS BEFOREHAND IN TERMINAL FOR EACH BARCODE FILE\n",
    "    cut -f 3 -d \",\" BASA_bc1.csv > lib1_ids.txt"
   ]
  },
  {
   "cell_type": "code",
   "execution_count": 49,
   "metadata": {},
   "outputs": [],
   "source": [
    "bc_files = []\n",
    "for bc_dir in ['demult/barcodes/']:\n",
    "    os.chdir('{}/{}'.format(root, bc_dir))\n",
    "    files = !find . -name '*.csv'\n",
    "    files = [os.path.abspath(x) for x in files]\n",
    "    for x in files:\n",
    "        bc_files.append(x)\n",
    "bc_files = sorted(bc_files)"
   ]
  },
  {
   "cell_type": "code",
   "execution_count": 50,
   "metadata": {},
   "outputs": [
    {
     "data": {
      "text/plain": [
       "['/working/tfaske/balsam/demult/barcodes/BASA_bc1.csv']"
      ]
     },
     "execution_count": 50,
     "metadata": {},
     "output_type": "execute_result"
    }
   ],
   "source": [
    "bc_files"
   ]
  },
  {
   "cell_type": "code",
   "execution_count": 51,
   "metadata": {},
   "outputs": [],
   "source": [
    "#remove Mac line endings \n",
    "for bc in bc_files: \n",
    "    !tr -d '\\r' < $bc > 'bc.out' \n",
    "    !mv 'bc.out' $bc"
   ]
  },
  {
   "cell_type": "markdown",
   "metadata": {},
   "source": [
    "# Find cleaned fastq \n",
    "    This finds cleaned fastq files post tapiocaand designates new name assignment for downstream\n",
    "    once this is changed to fit desired locations, everything should be automatic"
   ]
  },
  {
   "cell_type": "code",
   "execution_count": 52,
   "metadata": {
    "ExecuteTime": {}
   },
   "outputs": [],
   "source": [
    "fastq_files = []\n",
    "for contam_dir in ['contam/']:\n",
    "    os.chdir('{}/{}'.format(root, contam_dir))\n",
    "    files = !find . -name '*clean.fastq'\n",
    "    files = [os.path.abspath(x) for x in files]\n",
    "    for x in files:\n",
    "        fastq_files.append(x)\n",
    "fastq_files = sorted(fastq_files)"
   ]
  },
  {
   "cell_type": "code",
   "execution_count": 53,
   "metadata": {
    "ExecuteTime": {}
   },
   "outputs": [
    {
     "data": {
      "text/plain": [
       "['/working/tfaske/balsam/contam/BASA1.clean.fastq']"
      ]
     },
     "execution_count": 53,
     "metadata": {},
     "output_type": "execute_result"
    }
   ],
   "source": [
    "fastq_files"
   ]
  },
  {
   "cell_type": "markdown",
   "metadata": {},
   "source": [
    "# Run parse\n",
    "    once above is changed, this should run without change\n",
    "    This will make shell scripts for each decontam step separately "
   ]
  },
  {
   "cell_type": "code",
   "execution_count": 54,
   "metadata": {},
   "outputs": [],
   "source": [
    "demult_dir = os.path.join(root,'demult')"
   ]
  },
  {
   "cell_type": "code",
   "execution_count": 55,
   "metadata": {},
   "outputs": [
    {
     "name": "stdout",
     "output_type": "stream",
     "text": [
      "/working/tfaske/balsam/demult\n"
     ]
    }
   ],
   "source": [
    "cd $demult_dir"
   ]
  },
  {
   "cell_type": "code",
   "execution_count": 56,
   "metadata": {},
   "outputs": [],
   "source": [
    "!mkdir 'parse'"
   ]
  },
  {
   "cell_type": "code",
   "execution_count": 57,
   "metadata": {},
   "outputs": [],
   "source": [
    "parse_perl = '~/g/perl_scripts/parse_barcodes768.pl'"
   ]
  },
  {
   "cell_type": "code",
   "execution_count": 58,
   "metadata": {},
   "outputs": [],
   "source": [
    "def write_parse_sh(fastq_files,bc_files):\n",
    "    with open(\"parse/run_parse.sh\", \"w\") as o:\n",
    "        o.write(\"\"\"#!/bin/bash \\n\"\"\")\n",
    "        count = 0\n",
    "        for fastq in fastq_files:\n",
    "            o.write(\"\"\"perl {} {} {} D00\\n\"\"\".format(parse_perl,bc_files[count],fastq))\n",
    "            count += 1"
   ]
  },
  {
   "cell_type": "code",
   "execution_count": 59,
   "metadata": {},
   "outputs": [],
   "source": [
    "write_parse_sh(fastq_files,bc_files)"
   ]
  },
  {
   "cell_type": "markdown",
   "metadata": {},
   "source": [
    "# Run parsh.sh in terminal\n",
    "\n",
    "    cd /home/faske/g/balsam/demult/parse\n",
    "    bash run_parse.sh &> parse.out &\n",
    "    disown -h \n",
    "    \n",
    "    "
   ]
  },
  {
   "cell_type": "markdown",
   "metadata": {},
   "source": [
    "# PARSE REPORT"
   ]
  },
  {
   "cell_type": "code",
   "execution_count": 60,
   "metadata": {},
   "outputs": [],
   "source": [
    "report = []\n",
    "for parse_dir in ['parse/']:\n",
    "    os.chdir('{}/{}'.format(demult_dir, parse_dir))\n",
    "    files = !find . -name 'parsereport*'\n",
    "    files = [os.path.abspath(x) for x in files]\n",
    "    for x in files:\n",
    "        report.append(x)\n",
    "report = sorted(report)"
   ]
  },
  {
   "cell_type": "code",
   "execution_count": 61,
   "metadata": {},
   "outputs": [
    {
     "data": {
      "text/plain": [
       "['/working/tfaske/balsam/demult/parse/parsereport_BASA1.clean.fastq']"
      ]
     },
     "execution_count": 61,
     "metadata": {},
     "output_type": "execute_result"
    }
   ],
   "source": [
    "report"
   ]
  },
  {
   "cell_type": "code",
   "execution_count": 62,
   "metadata": {},
   "outputs": [
    {
     "name": "stdout",
     "output_type": "stream",
     "text": [
      "/working/tfaske/balsam/demult/parse/parsereport_BASA1.clean.fastq\n",
      "Good mids count: 1335683466\n",
      "Bad mids count: 45498540\n",
      "Number of seqs with potential MSE adapter in seq: 166411\n",
      "Seqs that were too short after removing MSE and beyond: 87\n",
      "\n",
      "\n"
     ]
    }
   ],
   "source": [
    "for pr in report:\n",
    "    print(pr)\n",
    "    !head -n 4 $pr\n",
    "    print('\\n')"
   ]
  },
  {
   "cell_type": "markdown",
   "metadata": {},
   "source": [
    "# Split parse file to seperate fastq per individual"
   ]
  },
  {
   "cell_type": "code",
   "execution_count": 63,
   "metadata": {},
   "outputs": [
    {
     "name": "stdout",
     "output_type": "stream",
     "text": [
      "/working/tfaske/balsam/demult\n"
     ]
    }
   ],
   "source": [
    "cd $demult_dir"
   ]
  },
  {
   "cell_type": "code",
   "execution_count": 64,
   "metadata": {},
   "outputs": [],
   "source": [
    "!mkdir 'fastq'"
   ]
  },
  {
   "cell_type": "code",
   "execution_count": 65,
   "metadata": {},
   "outputs": [],
   "source": [
    "parse_files = []\n",
    "for parse_dir in ['parse/']:\n",
    "    os.chdir('{}/{}'.format(demult_dir, parse_dir))\n",
    "    files = !find . -name 'parsed*clean.fastq'\n",
    "    files = [os.path.abspath(x) for x in files]\n",
    "    for x in files:\n",
    "        parse_files.append(x)\n",
    "parse_files = sorted(parse_files)"
   ]
  },
  {
   "cell_type": "code",
   "execution_count": 66,
   "metadata": {},
   "outputs": [
    {
     "data": {
      "text/plain": [
       "['/working/tfaske/balsam/demult/parse/parsed_BASA1.clean.fastq']"
      ]
     },
     "execution_count": 66,
     "metadata": {},
     "output_type": "execute_result"
    }
   ],
   "source": [
    "parse_files"
   ]
  },
  {
   "cell_type": "code",
   "execution_count": 67,
   "metadata": {},
   "outputs": [],
   "source": [
    "lib_files = []\n",
    "for bc_dir in ['demult/barcodes/']:\n",
    "    os.chdir('{}/{}'.format(root, bc_dir))\n",
    "    files = !find . -name 'lib*.txt'\n",
    "    files = [os.path.abspath(x) for x in files]\n",
    "    for x in files:\n",
    "        lib_files.append(x)\n",
    "lib_files = sorted(lib_files)"
   ]
  },
  {
   "cell_type": "code",
   "execution_count": 68,
   "metadata": {},
   "outputs": [
    {
     "data": {
      "text/plain": [
       "['/working/tfaske/balsam/demult/barcodes/lib1_ids.txt']"
      ]
     },
     "execution_count": 68,
     "metadata": {},
     "output_type": "execute_result"
    }
   ],
   "source": [
    "lib_files"
   ]
  },
  {
   "cell_type": "code",
   "execution_count": 69,
   "metadata": {},
   "outputs": [],
   "source": [
    "split_perl = '/home/faske/g/perl_scripts/splitFastq.pl'"
   ]
  },
  {
   "cell_type": "code",
   "execution_count": 70,
   "metadata": {},
   "outputs": [
    {
     "name": "stdout",
     "output_type": "stream",
     "text": [
      "/working/tfaske/balsam/demult\n"
     ]
    }
   ],
   "source": [
    "cd $demult_dir"
   ]
  },
  {
   "cell_type": "code",
   "execution_count": 71,
   "metadata": {},
   "outputs": [],
   "source": [
    "def write_split_sh(parse_files,bc_files):\n",
    "    with open(\"fastq/run_split.sh\", \"w\") as o:\n",
    "        o.write(\"\"\"#!/bin/bash \\n\"\"\")\n",
    "        count = 0\n",
    "        for parse in parse_files:\n",
    "            o.write(\"\"\"perl {} {} {}\\n\"\"\".format(split_perl,lib_files[count],parse))\n",
    "            count += 1"
   ]
  },
  {
   "cell_type": "code",
   "execution_count": 72,
   "metadata": {},
   "outputs": [],
   "source": [
    "write_split_sh(parse_files,lib_files)"
   ]
  },
  {
   "cell_type": "markdown",
   "metadata": {},
   "source": [
    "# Run split.sh in terminal\n",
    "    cd /home/faske/g/balsam/demult/fastq\n",
    "    bash run_split.sh &> split.out &\n",
    "    disown -h\n",
    "    "
   ]
  },
  {
   "cell_type": "markdown",
   "metadata": {},
   "source": [
    "# gzip individual fastq files"
   ]
  },
  {
   "cell_type": "code",
   "execution_count": 73,
   "metadata": {},
   "outputs": [
    {
     "name": "stdout",
     "output_type": "stream",
     "text": [
      "/working/tfaske/balsam/demult\n"
     ]
    }
   ],
   "source": [
    "cd $demult_dir"
   ]
  },
  {
   "cell_type": "code",
   "execution_count": 74,
   "metadata": {},
   "outputs": [],
   "source": [
    "fq_files = []\n",
    "for fq_dir in ['fastq']:\n",
    "    os.chdir('{}/{}'.format(demult_dir, fq_dir))\n",
    "    files = !find . -name '*fastq'\n",
    "    files = [os.path.abspath(x) for x in files]\n",
    "    for x in files:\n",
    "        fq_files.append(x)\n",
    "fq_files = sorted(fq_files)"
   ]
  },
  {
   "cell_type": "code",
   "execution_count": 75,
   "metadata": {},
   "outputs": [
    {
     "data": {
      "text/plain": [
       "(543, '/working/tfaske/balsam/demult/fastq/BH_QH_1.fastq')"
      ]
     },
     "execution_count": 75,
     "metadata": {},
     "output_type": "execute_result"
    }
   ],
   "source": [
    "len(fq_files), fq_files[0]"
   ]
  },
  {
   "cell_type": "code",
   "execution_count": 76,
   "metadata": {},
   "outputs": [
    {
     "name": "stdout",
     "output_type": "stream",
     "text": [
      "/working/tfaske/balsam/demult\n"
     ]
    }
   ],
   "source": [
    "cd $demult_dir"
   ]
  },
  {
   "cell_type": "code",
   "execution_count": 77,
   "metadata": {},
   "outputs": [],
   "source": [
    "def write_gzip_sh(fq_files):\n",
    "    with open(\"fastq/run_gzip.sh\", \"w\") as o:\n",
    "        o.write(\"\"\"#!/bin/bash \\n\"\"\")\n",
    "        for fq in fq_files:\n",
    "            o.write(\"\"\"gzip {} &\\n\"\"\".format(fq))"
   ]
  },
  {
   "cell_type": "code",
   "execution_count": 78,
   "metadata": {},
   "outputs": [],
   "source": [
    "write_gzip_sh(fq_files)"
   ]
  },
  {
   "cell_type": "markdown",
   "metadata": {},
   "source": [
    "# Run gzip.sh in terminal\n",
    "    cd /home/faske/g/balsam/demult/fastq\n",
    "    bash run_gzip.sh"
   ]
  },
  {
   "cell_type": "markdown",
   "metadata": {},
   "source": [
    "# Rename all fastq files \n",
    "    dDocent requires *F.fq.gz\n",
    "    make sure you have this rename:\n",
    "    conda install -c bioconda rename\n"
   ]
  },
  {
   "cell_type": "code",
   "execution_count": 79,
   "metadata": {},
   "outputs": [
    {
     "name": "stdout",
     "output_type": "stream",
     "text": [
      "/home/faske/g/anaconda3/envs/py36/bin/rename\r\n"
     ]
    }
   ],
   "source": [
    "!which rename"
   ]
  },
  {
   "cell_type": "code",
   "execution_count": 80,
   "metadata": {},
   "outputs": [],
   "source": [
    "os.chdir('{}/{}'.format(demult_dir, 'fastq'))"
   ]
  },
  {
   "cell_type": "code",
   "execution_count": 81,
   "metadata": {},
   "outputs": [
    {
     "data": {
      "text/plain": [
       "'/working/tfaske/balsam/demult/fastq'"
      ]
     },
     "execution_count": 81,
     "metadata": {},
     "output_type": "execute_result"
    }
   ],
   "source": [
    "pwd"
   ]
  },
  {
   "cell_type": "code",
   "execution_count": 82,
   "metadata": {},
   "outputs": [],
   "source": [
    "!rename 's/fastq/F.fq/g' *fastq.gz"
   ]
  },
  {
   "cell_type": "code",
   "execution_count": 86,
   "metadata": {},
   "outputs": [
    {
     "name": "stdout",
     "output_type": "stream",
     "text": [
      "ls: cannot access *fastq.gz: No such file or directory\r\n",
      "0\r\n"
     ]
    }
   ],
   "source": [
    "!ls -l *fastq.gz | wc -l "
   ]
  },
  {
   "cell_type": "code",
   "execution_count": 85,
   "metadata": {},
   "outputs": [
    {
     "name": "stdout",
     "output_type": "stream",
     "text": [
      "543\r\n"
     ]
    }
   ],
   "source": [
    "!ls -l *F.fq.gz | wc -l "
   ]
  },
  {
   "cell_type": "markdown",
   "metadata": {},
   "source": [
    "# gzip all raw / intermediate fastq files"
   ]
  },
  {
   "cell_type": "code",
   "execution_count": 87,
   "metadata": {},
   "outputs": [
    {
     "name": "stdout",
     "output_type": "stream",
     "text": [
      "/working/tfaske/balsam\n"
     ]
    }
   ],
   "source": [
    "cd $root"
   ]
  },
  {
   "cell_type": "code",
   "execution_count": 88,
   "metadata": {},
   "outputs": [],
   "source": [
    "raw_files = !find . -type f -name '*fastq'\n",
    "raw_files = [os.path.abspath(x) for x in raw_files]\n",
    "raw_files = sorted(raw_files)"
   ]
  },
  {
   "cell_type": "code",
   "execution_count": 89,
   "metadata": {},
   "outputs": [
    {
     "data": {
      "text/plain": [
       "['/working/tfaske/balsam/contam/BASA1.clean.fastq',\n",
       " '/working/tfaske/balsam/demult/parse/parsed_BASA1.clean.fastq',\n",
       " '/working/tfaske/balsam/demult/parse/parsereport_BASA1.clean.fastq']"
      ]
     },
     "execution_count": 89,
     "metadata": {},
     "output_type": "execute_result"
    }
   ],
   "source": [
    "raw_files"
   ]
  },
  {
   "cell_type": "code",
   "execution_count": 141,
   "metadata": {},
   "outputs": [],
   "source": [
    "def write_gzip_raw_sh(raw_files):\n",
    "    with open(\"run_gzip_raw.sh\", \"w\") as o:\n",
    "        o.write(\"\"\"#!/bin/bash \\n\"\"\")\n",
    "        for f in raw_files:\n",
    "            o.write(\"\"\"gzip {} &\\n\"\"\".format(f))"
   ]
  },
  {
   "cell_type": "code",
   "execution_count": 142,
   "metadata": {},
   "outputs": [],
   "source": [
    "write_gzip_raw_sh(raw_files)"
   ]
  },
  {
   "cell_type": "markdown",
   "metadata": {},
   "source": [
    "# run gzip_raw.sh\n",
    "    cd ~/g/balsam\n",
    "    bash run_gzip_raw.sh"
   ]
  },
  {
   "cell_type": "code",
   "execution_count": null,
   "metadata": {},
   "outputs": [],
   "source": []
  }
 ],
 "metadata": {
  "kernelspec": {
   "display_name": "Python 3",
   "language": "python",
   "name": "python3"
  },
  "language_info": {
   "codemirror_mode": {
    "name": "ipython",
    "version": 3
   },
   "file_extension": ".py",
   "mimetype": "text/x-python",
   "name": "python",
   "nbconvert_exporter": "python",
   "pygments_lexer": "ipython3",
   "version": "3.6.9"
  }
 },
 "nbformat": 4,
 "nbformat_minor": 1
}
