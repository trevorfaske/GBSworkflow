{
 "cells": [
  {
   "cell_type": "markdown",
   "metadata": {},
   "source": [
    "# Contamination removal using tapioca\n",
    "    (http://github.com/ncgr/tapioca)\n",
    "    Removes E.coli, PhiX, and Illumina associated oligos"
   ]
  },
  {
   "cell_type": "code",
   "execution_count": 1,
   "metadata": {
    "ExecuteTime": {}
   },
   "outputs": [],
   "source": [
    "!source activate py36"
   ]
  },
  {
   "cell_type": "code",
   "execution_count": 2,
   "metadata": {
    "ExecuteTime": {}
   },
   "outputs": [],
   "source": [
    "import sys\n",
    "\n",
    "sys.path.append('/home/faske/g/anaconda3/envs/py36/lib/python3.6/site-packages')\n",
    "sys.path.append(\"/home/faske/g/ipynb/include_utils\")\n",
    "\n",
    "import ipyparallel as ipp\n",
    "import os, time\n",
    "import include_utils as u\n",
    "import pandas as pd\n",
    "import numpy as np\n",
    "import scipy as sp\n",
    "import numbers\n",
    "import matplotlib.pyplot as plt\n",
    "import matplotlib.patches as mpatches\n",
    "import matplotlib.cm as cm\n",
    "import matplotlib.colors as mcolors\n",
    "#import vcf\n",
    "from sklearn import preprocessing\n",
    "from subprocess import Popen, PIPE, call, check_output\n",
    "import seaborn as sns\n",
    "from IPython.display import FileLink\n",
    "import urllib.request as urllib2\n",
    "import dill\n",
    "import traceback\n",
    "from pandas import Series, DataFrame\n",
    "import gzip\n",
    "import warnings\n",
    "warnings.filterwarnings('ignore',category=pd.io.pytables.PerformanceWarning)\n",
    "%config InlineBackend.figure_format = 'retina'\n",
    "from Bio import SeqIO\n",
    "#import pysam\n",
    "from collections import OrderedDict, namedtuple, Counter\n",
    "import operator\n",
    "import multiprocessing as mp\n",
    "import shutil\n",
    "import tempfile\n",
    "#from ipyparallel import Client\n",
    "import scandir\n",
    "import glob\n",
    "from Bio.SeqIO.QualityIO import FastqGeneralIterator\n",
    "import pickle\n",
    "#import Levenshtein as lv"
   ]
  },
  {
   "cell_type": "code",
   "execution_count": 3,
   "metadata": {
    "ExecuteTime": {}
   },
   "outputs": [],
   "source": [
    "root = \"/home/faske/g/balsam\""
   ]
  },
  {
   "cell_type": "code",
   "execution_count": 4,
   "metadata": {
    "ExecuteTime": {}
   },
   "outputs": [
    {
     "name": "stdout",
     "output_type": "stream",
     "text": [
      "/working/tfaske/balsam\n"
     ]
    }
   ],
   "source": [
    "cd $root"
   ]
  },
  {
   "cell_type": "code",
   "execution_count": 5,
   "metadata": {
    "ExecuteTime": {}
   },
   "outputs": [
    {
     "data": {
      "text/plain": [
       "'/working/tfaske/balsam'"
      ]
     },
     "execution_count": 5,
     "metadata": {},
     "output_type": "execute_result"
    }
   ],
   "source": [
    "pwd"
   ]
  },
  {
   "cell_type": "markdown",
   "metadata": {},
   "source": [
    "# Find raw fastq \n",
    "    This finds raw fastq files and designates new name assignment for downstream\n",
    "    once this is changed to fit desired locations, everything should be automatic"
   ]
  },
  {
   "cell_type": "code",
   "execution_count": 6,
   "metadata": {
    "ExecuteTime": {}
   },
   "outputs": [],
   "source": [
    "fastq_files = []\n",
    "for OGdir in ['original/']:\n",
    "    os.chdir('{}/{}'.format(root, OGdir))\n",
    "    files = !find . -name '*fastq.gz'\n",
    "    files = [os.path.abspath(x) for x in files]\n",
    "    for x in files:\n",
    "        fastq_files.append(x)\n",
    "fastq_files = sorted(fastq_files)"
   ]
  },
  {
   "cell_type": "code",
   "execution_count": 7,
   "metadata": {
    "ExecuteTime": {}
   },
   "outputs": [
    {
     "data": {
      "text/plain": [
       "['/working/tfaske/balsam/original/Library2-BASA_S2_L002_R1_001.fastq.gz']"
      ]
     },
     "execution_count": 7,
     "metadata": {},
     "output_type": "execute_result"
    }
   ],
   "source": [
    "fastq_files"
   ]
  },
  {
   "cell_type": "code",
   "execution_count": 8,
   "metadata": {},
   "outputs": [
    {
     "data": {
      "text/plain": [
       "{'BASA1': '/working/tfaske/balsam/original/Library2-BASA_S2_L002_R1_001.fastq.gz'}"
      ]
     },
     "execution_count": 8,
     "metadata": {},
     "output_type": "execute_result"
    }
   ],
   "source": [
    "fastq_dict = dict()\n",
    "fastq_names = [\"BASA1\"]\n",
    "for i in range(0,len(fastq_files)):\n",
    "    fastq_dict[fastq_names[i]] = fastq_files[i]\n",
    "fastq_dict"
   ]
  },
  {
   "cell_type": "markdown",
   "metadata": {},
   "source": [
    "# Run tapioca\n",
    "    once above is changed, this should run without change\n",
    "    This will make shell scripts for each decontam step separately "
   ]
  },
  {
   "cell_type": "code",
   "execution_count": 15,
   "metadata": {},
   "outputs": [
    {
     "name": "stdout",
     "output_type": "stream",
     "text": [
      "/working/tfaske/balsam\n"
     ]
    }
   ],
   "source": [
    "cd $root"
   ]
  },
  {
   "cell_type": "code",
   "execution_count": 16,
   "metadata": {},
   "outputs": [],
   "source": [
    "!mkdir 'contam'"
   ]
  },
  {
   "cell_type": "code",
   "execution_count": 17,
   "metadata": {},
   "outputs": [],
   "source": [
    "tap_analysis = '/home/faske/g/src/tapioca/src/./tap_contam_analysis'\n",
    "tap_contam_dir = '/archive/parchman_lab/rawdata_to_backup/contaminants/'"
   ]
  },
  {
   "cell_type": "code",
   "execution_count": 18,
   "metadata": {},
   "outputs": [],
   "source": [
    "def write_tap_illum_sh(fastq_dict):\n",
    "    with open(\"contam/run_tap_illum.sh\", \"w\") as o:\n",
    "        o.write(\"\"\"#!/bin/bash \\n\"\"\")\n",
    "        for name, fastq in fastq_dict.items():\n",
    "            o.write(\"\"\"{} --db {}/illumina_oligos --pct 20 {} > {}.readstofilter.ill.txt\\n\"\"\".format(tap_analysis,tap_contam_dir,fastq,name))"
   ]
  },
  {
   "cell_type": "code",
   "execution_count": 19,
   "metadata": {},
   "outputs": [],
   "source": [
    "def write_tap_phix_sh(fastq_dict):\n",
    "    with open(\"contam/run_tap_phix.sh\", \"w\") as o:\n",
    "        o.write(\"\"\"#!/bin/bash \\n\"\"\")\n",
    "        for name, fastq in fastq_dict.items():\n",
    "            o.write(\"\"\"{} --db {}/phix174 --pct 80 {} > {}.readstofilter.phix.txt\\n\"\"\".format(tap_analysis,tap_contam_dir,fastq,name))"
   ]
  },
  {
   "cell_type": "code",
   "execution_count": 20,
   "metadata": {},
   "outputs": [],
   "source": [
    "def write_tap_ecoli_sh(fastq_dict):\n",
    "    with open(\"contam/run_tap_ecoli.sh\", \"w\") as o:\n",
    "        o.write(\"\"\"#!/bin/bash \\n\"\"\")\n",
    "        for name, fastq in fastq_dict.items():\n",
    "            o.write(\"\"\"{} --db {}/ecoli-k-12 --pct 80 {} > {}.readstofilter.ecoli.txt\\n\"\"\".format(tap_analysis,tap_contam_dir,fastq,name))"
   ]
  },
  {
   "cell_type": "code",
   "execution_count": 21,
   "metadata": {},
   "outputs": [
    {
     "data": {
      "text/plain": [
       "(None, None, None)"
      ]
     },
     "execution_count": 21,
     "metadata": {},
     "output_type": "execute_result"
    }
   ],
   "source": [
    "write_tap_illum_sh(fastq_dict),write_tap_phix_sh(fastq_dict),write_tap_ecoli_sh(fastq_dict)"
   ]
  },
  {
   "cell_type": "markdown",
   "metadata": {},
   "source": [
    "# Run contam.sh in terminal\n",
    "\n",
    "    cd /home/faske/g/balsam/contam\n",
    "    module load fqutils/0.4.1\n",
    "    module load bowtie2/2.2.5\n",
    "    bash run_tap_ecoli.sh &\n",
    "    disown -h \n",
    "    bash run_tap_phix.sh &\n",
    "    disown -h \n",
    "    bash run_tap_illum.sh &\n",
    "    disown -h \n",
    "    "
   ]
  },
  {
   "cell_type": "markdown",
   "metadata": {},
   "source": [
    "# Removes contaminents and makes new fastq file"
   ]
  },
  {
   "cell_type": "code",
   "execution_count": 22,
   "metadata": {},
   "outputs": [
    {
     "name": "stdout",
     "output_type": "stream",
     "text": [
      "/working/tfaske/balsam\n"
     ]
    }
   ],
   "source": [
    "cd $root"
   ]
  },
  {
   "cell_type": "code",
   "execution_count": 23,
   "metadata": {},
   "outputs": [],
   "source": [
    "def write_merge_sh(fastq_dict):\n",
    "    with open(\"contam/run_merge.sh\", \"w\") as o:\n",
    "        o.write(\"\"\"#!/bin/bash \\n\"\"\")\n",
    "        for name, fastq in fastq_dict.items():\n",
    "            o.write(\"\"\"cat {} | fqu_cull -r {}.readstofilter.ill.txt {}.readstofilter.phix.txt {}.readstofilter.ecoli.txt > {}.clean.fastq\\n\"\"\".format(fastq,name,name,name,name))"
   ]
  },
  {
   "cell_type": "code",
   "execution_count": 24,
   "metadata": {},
   "outputs": [],
   "source": [
    "write_merge_sh(fastq_dict)"
   ]
  },
  {
   "cell_type": "markdown",
   "metadata": {},
   "source": [
    "# Run contam.sh in terminal\n",
    "    cd /home/faske/g/dusty/contam\n",
    "    module load fqutils/0.4.1\n",
    "    module load bowtie2/2.2.5\n",
    "    bash run_merge.sh &\n",
    "    disown -h\n",
    "    "
   ]
  },
  {
   "cell_type": "code",
   "execution_count": null,
   "metadata": {},
   "outputs": [],
   "source": []
  },
  {
   "cell_type": "code",
   "execution_count": null,
   "metadata": {},
   "outputs": [],
   "source": []
  },
  {
   "cell_type": "code",
   "execution_count": null,
   "metadata": {},
   "outputs": [],
   "source": []
  },
  {
   "cell_type": "code",
   "execution_count": null,
   "metadata": {},
   "outputs": [],
   "source": []
  },
  {
   "cell_type": "markdown",
   "metadata": {},
   "source": [
    "# This makes a bash script to run other bash scripts\n",
    "    didnt work on ponderosa. Save for a HPC. "
   ]
  },
  {
   "cell_type": "code",
   "execution_count": 94,
   "metadata": {},
   "outputs": [],
   "source": [
    "bash_files = []\n",
    "for contam_dir in ['contam/']:\n",
    "    os.chdir('{}/{}'.format(root, contam_dir))\n",
    "    files = !find . -name '*.sh'\n",
    "    files = [os.path.abspath(x) for x in files]\n",
    "    for x in files:\n",
    "        bash_files.append(x)\n",
    "bash_files = sorted(bash_files)"
   ]
  },
  {
   "cell_type": "code",
   "execution_count": 95,
   "metadata": {},
   "outputs": [
    {
     "data": {
      "text/plain": [
       "['/working/tfaske/dusty/contam/run_contam.sh',\n",
       " '/working/tfaske/dusty/contam/run_tap_ecoli.sh',\n",
       " '/working/tfaske/dusty/contam/run_tap_illum.sh',\n",
       " '/working/tfaske/dusty/contam/run_tap_phix.sh']"
      ]
     },
     "execution_count": 95,
     "metadata": {},
     "output_type": "execute_result"
    }
   ],
   "source": [
    "bash_files"
   ]
  },
  {
   "cell_type": "code",
   "execution_count": 96,
   "metadata": {},
   "outputs": [
    {
     "name": "stdout",
     "output_type": "stream",
     "text": [
      "/working/tfaske/dusty\n"
     ]
    }
   ],
   "source": [
    "cd $root "
   ]
  },
  {
   "cell_type": "code",
   "execution_count": 97,
   "metadata": {},
   "outputs": [],
   "source": [
    "def write_contam_sh(bash_files):\n",
    "    with open(\"contam/run_contam.sh\", \"w\") as o:\n",
    "        o.write(\"\"\"#!/bin/bash\n",
    "#$ -S /bin/bash\n",
    "#$ -cwd\n",
    "#$ -o contam.out\n",
    "#$ -e contam.err\\n\"\"\")\n",
    "        for bash in bash_files:\n",
    "            o.write(\"\"\"bash {}\\n\"\"\".format(bash))"
   ]
  },
  {
   "cell_type": "code",
   "execution_count": 98,
   "metadata": {},
   "outputs": [],
   "source": [
    "write_contam_sh(bash_files)"
   ]
  },
  {
   "cell_type": "code",
   "execution_count": null,
   "metadata": {},
   "outputs": [],
   "source": []
  }
 ],
 "metadata": {
  "kernelspec": {
   "display_name": "Python 3",
   "language": "python",
   "name": "python3"
  },
  "language_info": {
   "codemirror_mode": {
    "name": "ipython",
    "version": 3
   },
   "file_extension": ".py",
   "mimetype": "text/x-python",
   "name": "python",
   "nbconvert_exporter": "python",
   "pygments_lexer": "ipython3",
   "version": "3.6.7"
  }
 },
 "nbformat": 4,
 "nbformat_minor": 1
}
